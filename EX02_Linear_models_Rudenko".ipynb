{
  "cells": [
    {
      "cell_type": "markdown",
      "metadata": {
        "id": "view-in-github",
        "colab_type": "text"
      },
      "source": [
        "<a href=\"https://colab.research.google.com/github/YulieRu/NN_msu/blob/master/EX02_Linear_models_Rudenko%22.ipynb\" target=\"_parent\"><img src=\"https://colab.research.google.com/assets/colab-badge.svg\" alt=\"Open In Colab\"/></a>"
      ]
    },
    {
      "cell_type": "markdown",
      "metadata": {
        "id": "6b-Q4e22pL4J"
      },
      "source": [
        "# Вспомогательный код"
      ]
    },
    {
      "cell_type": "code",
      "execution_count": null,
      "metadata": {
        "id": "aKgWGroCpL4L"
      },
      "outputs": [],
      "source": [
        "import random\n",
        "import numpy as np\n",
        "\n",
        "\n",
        "def set_seed():\n",
        "    random.seed(42)\n",
        "    np.random.seed(42)"
      ]
    },
    {
      "cell_type": "markdown",
      "metadata": {
        "id": "AkxzMTmPpL4M"
      },
      "source": [
        "# Задание 1. Множественная линейная регрессия"
      ]
    },
    {
      "cell_type": "markdown",
      "metadata": {
        "id": "9cj16xdopL4M"
      },
      "source": [
        "Почти все проблемы реального мира, с которыми вы столкнетесь, будут иметь более двух переменных. Линейная регрессия с участием нескольких переменных называется **«множественной линейной регрессией» (Multiple Linear Regression)**.\n",
        "\n",
        "Уравнение множественной линейной регрессии имеет вид:\n",
        "\n",
        "$y = b_0 + b_1 * x_1 + b_2 * x_2 + ... + b_n * x_n$\n",
        "\n",
        "Отличие между простой и множественной линейной регрессией заключается в том, что вместо линии регрессии в ней используется гиперплоскость.\n",
        "\n",
        "В этом задании мы будем использовать множественную линейную регрессию для прогнозирования потребления бензина (в миллионах галлонов) в 48 штатах США на основе: налогов на бензин (в центах), дохода на душу населения (в долларах), шоссе с твердым покрытием (в милях) и доли населения, имеющего водительские права."
      ]
    },
    {
      "cell_type": "markdown",
      "metadata": {
        "id": "d2si9ewRpL4N"
      },
      "source": [
        "Задание:\n",
        "\n",
        "1. Разделить датасет на тренировочную и тестовую части в соотношении 4 к 1 (`random_state=42`)\n",
        "1. Провести нормализацию/стандартизацию данных одним из рассмотренных на лекции способов\n",
        "1. Реализовать множественную линейную регрессию с помощью sklearn\n",
        "1. Обучить модель\n",
        "1. Вывести сравнительную таблицу y_test и y_pred\n",
        "1. Выведите параметры качества модели:\n",
        "  - Mean Absolute Error\n",
        "  - Mean Squared Error\n",
        "  - Root Mean Squared Error"
      ]
    },
    {
      "cell_type": "markdown",
      "metadata": {
        "id": "j7_6W295pL4N"
      },
      "source": [
        "Импорт необходимых библиотек:"
      ]
    },
    {
      "cell_type": "code",
      "execution_count": null,
      "metadata": {
        "id": "67QpFNYmpL4N"
      },
      "outputs": [],
      "source": [
        "import pandas as pd\n",
        "import matplotlib.pyplot as plt\n",
        "from sklearn import metrics\n",
        "from sklearn.preprocessing import StandardScaler\n",
        "from sklearn.linear_model import LinearRegression\n",
        "from sklearn.model_selection import train_test_split"
      ]
    },
    {
      "cell_type": "markdown",
      "metadata": {
        "id": "Qj5oAvTepL4N"
      },
      "source": [
        "Загрузка датасета:"
      ]
    },
    {
      "cell_type": "code",
      "execution_count": null,
      "metadata": {
        "id": "f9g8oqXepL4N"
      },
      "outputs": [],
      "source": [
        "!wget -q https://edunet.kea.su/repo/EduNet-web_dependencies/datasets/petrol_consumption.csv"
      ]
    },
    {
      "cell_type": "markdown",
      "metadata": {
        "id": "HT59uL3upL4O"
      },
      "source": [
        "!wget доступен в colab, но недоступен через локальный jupyter.\n",
        "\n",
        "В локальном случае требуется [скачать](https://www.kaggle.com/code/kerneler/starter-petrol-consumption-2d0bf1e7-0/input) petrol_consumption.csv самостоятельно."
      ]
    },
    {
      "cell_type": "code",
      "execution_count": null,
      "metadata": {
        "colab": {
          "base_uri": "https://localhost:8080/",
          "height": 224
        },
        "id": "O8hahP_NpL4O",
        "outputId": "c2661f65-e27a-4d89-ac79-50bf63e310c2"
      },
      "outputs": [
        {
          "name": "stdout",
          "output_type": "stream",
          "text": [
            "(48, 5)\n"
          ]
        },
        {
          "data": {
            "text/html": [
              "\n",
              "  <div id=\"df-fcba9529-7d9d-4ebb-8316-f1200ea304d5\" class=\"colab-df-container\">\n",
              "    <div>\n",
              "<style scoped>\n",
              "    .dataframe tbody tr th:only-of-type {\n",
              "        vertical-align: middle;\n",
              "    }\n",
              "\n",
              "    .dataframe tbody tr th {\n",
              "        vertical-align: top;\n",
              "    }\n",
              "\n",
              "    .dataframe thead th {\n",
              "        text-align: right;\n",
              "    }\n",
              "</style>\n",
              "<table border=\"1\" class=\"dataframe\">\n",
              "  <thead>\n",
              "    <tr style=\"text-align: right;\">\n",
              "      <th></th>\n",
              "      <th>Petrol_tax</th>\n",
              "      <th>Average_income</th>\n",
              "      <th>Paved_Highways</th>\n",
              "      <th>Population_Driver_licence(%)</th>\n",
              "      <th>Petrol_Consumption</th>\n",
              "    </tr>\n",
              "  </thead>\n",
              "  <tbody>\n",
              "    <tr>\n",
              "      <th>0</th>\n",
              "      <td>9.0</td>\n",
              "      <td>3571</td>\n",
              "      <td>1976</td>\n",
              "      <td>0.525</td>\n",
              "      <td>541</td>\n",
              "    </tr>\n",
              "    <tr>\n",
              "      <th>1</th>\n",
              "      <td>9.0</td>\n",
              "      <td>4092</td>\n",
              "      <td>1250</td>\n",
              "      <td>0.572</td>\n",
              "      <td>524</td>\n",
              "    </tr>\n",
              "    <tr>\n",
              "      <th>2</th>\n",
              "      <td>9.0</td>\n",
              "      <td>3865</td>\n",
              "      <td>1586</td>\n",
              "      <td>0.580</td>\n",
              "      <td>561</td>\n",
              "    </tr>\n",
              "    <tr>\n",
              "      <th>3</th>\n",
              "      <td>7.5</td>\n",
              "      <td>4870</td>\n",
              "      <td>2351</td>\n",
              "      <td>0.529</td>\n",
              "      <td>414</td>\n",
              "    </tr>\n",
              "    <tr>\n",
              "      <th>4</th>\n",
              "      <td>8.0</td>\n",
              "      <td>4399</td>\n",
              "      <td>431</td>\n",
              "      <td>0.544</td>\n",
              "      <td>410</td>\n",
              "    </tr>\n",
              "  </tbody>\n",
              "</table>\n",
              "</div>\n",
              "    <div class=\"colab-df-buttons\">\n",
              "\n",
              "  <div class=\"colab-df-container\">\n",
              "    <button class=\"colab-df-convert\" onclick=\"convertToInteractive('df-fcba9529-7d9d-4ebb-8316-f1200ea304d5')\"\n",
              "            title=\"Convert this dataframe to an interactive table.\"\n",
              "            style=\"display:none;\">\n",
              "\n",
              "  <svg xmlns=\"http://www.w3.org/2000/svg\" height=\"24px\" viewBox=\"0 -960 960 960\">\n",
              "    <path d=\"M120-120v-720h720v720H120Zm60-500h600v-160H180v160Zm220 220h160v-160H400v160Zm0 220h160v-160H400v160ZM180-400h160v-160H180v160Zm440 0h160v-160H620v160ZM180-180h160v-160H180v160Zm440 0h160v-160H620v160Z\"/>\n",
              "  </svg>\n",
              "    </button>\n",
              "\n",
              "  <style>\n",
              "    .colab-df-container {\n",
              "      display:flex;\n",
              "      gap: 12px;\n",
              "    }\n",
              "\n",
              "    .colab-df-convert {\n",
              "      background-color: #E8F0FE;\n",
              "      border: none;\n",
              "      border-radius: 50%;\n",
              "      cursor: pointer;\n",
              "      display: none;\n",
              "      fill: #1967D2;\n",
              "      height: 32px;\n",
              "      padding: 0 0 0 0;\n",
              "      width: 32px;\n",
              "    }\n",
              "\n",
              "    .colab-df-convert:hover {\n",
              "      background-color: #E2EBFA;\n",
              "      box-shadow: 0px 1px 2px rgba(60, 64, 67, 0.3), 0px 1px 3px 1px rgba(60, 64, 67, 0.15);\n",
              "      fill: #174EA6;\n",
              "    }\n",
              "\n",
              "    .colab-df-buttons div {\n",
              "      margin-bottom: 4px;\n",
              "    }\n",
              "\n",
              "    [theme=dark] .colab-df-convert {\n",
              "      background-color: #3B4455;\n",
              "      fill: #D2E3FC;\n",
              "    }\n",
              "\n",
              "    [theme=dark] .colab-df-convert:hover {\n",
              "      background-color: #434B5C;\n",
              "      box-shadow: 0px 1px 3px 1px rgba(0, 0, 0, 0.15);\n",
              "      filter: drop-shadow(0px 1px 2px rgba(0, 0, 0, 0.3));\n",
              "      fill: #FFFFFF;\n",
              "    }\n",
              "  </style>\n",
              "\n",
              "    <script>\n",
              "      const buttonEl =\n",
              "        document.querySelector('#df-fcba9529-7d9d-4ebb-8316-f1200ea304d5 button.colab-df-convert');\n",
              "      buttonEl.style.display =\n",
              "        google.colab.kernel.accessAllowed ? 'block' : 'none';\n",
              "\n",
              "      async function convertToInteractive(key) {\n",
              "        const element = document.querySelector('#df-fcba9529-7d9d-4ebb-8316-f1200ea304d5');\n",
              "        const dataTable =\n",
              "          await google.colab.kernel.invokeFunction('convertToInteractive',\n",
              "                                                    [key], {});\n",
              "        if (!dataTable) return;\n",
              "\n",
              "        const docLinkHtml = 'Like what you see? Visit the ' +\n",
              "          '<a target=\"_blank\" href=https://colab.research.google.com/notebooks/data_table.ipynb>data table notebook</a>'\n",
              "          + ' to learn more about interactive tables.';\n",
              "        element.innerHTML = '';\n",
              "        dataTable['output_type'] = 'display_data';\n",
              "        await google.colab.output.renderOutput(dataTable, element);\n",
              "        const docLink = document.createElement('div');\n",
              "        docLink.innerHTML = docLinkHtml;\n",
              "        element.appendChild(docLink);\n",
              "      }\n",
              "    </script>\n",
              "  </div>\n",
              "\n",
              "\n",
              "<div id=\"df-4a1b2461-ccc4-4b57-a3a2-52ee75190245\">\n",
              "  <button class=\"colab-df-quickchart\" onclick=\"quickchart('df-4a1b2461-ccc4-4b57-a3a2-52ee75190245')\"\n",
              "            title=\"Suggest charts.\"\n",
              "            style=\"display:none;\">\n",
              "\n",
              "<svg xmlns=\"http://www.w3.org/2000/svg\" height=\"24px\"viewBox=\"0 0 24 24\"\n",
              "     width=\"24px\">\n",
              "    <g>\n",
              "        <path d=\"M19 3H5c-1.1 0-2 .9-2 2v14c0 1.1.9 2 2 2h14c1.1 0 2-.9 2-2V5c0-1.1-.9-2-2-2zM9 17H7v-7h2v7zm4 0h-2V7h2v10zm4 0h-2v-4h2v4z\"/>\n",
              "    </g>\n",
              "</svg>\n",
              "  </button>\n",
              "\n",
              "<style>\n",
              "  .colab-df-quickchart {\n",
              "      --bg-color: #E8F0FE;\n",
              "      --fill-color: #1967D2;\n",
              "      --hover-bg-color: #E2EBFA;\n",
              "      --hover-fill-color: #174EA6;\n",
              "      --disabled-fill-color: #AAA;\n",
              "      --disabled-bg-color: #DDD;\n",
              "  }\n",
              "\n",
              "  [theme=dark] .colab-df-quickchart {\n",
              "      --bg-color: #3B4455;\n",
              "      --fill-color: #D2E3FC;\n",
              "      --hover-bg-color: #434B5C;\n",
              "      --hover-fill-color: #FFFFFF;\n",
              "      --disabled-bg-color: #3B4455;\n",
              "      --disabled-fill-color: #666;\n",
              "  }\n",
              "\n",
              "  .colab-df-quickchart {\n",
              "    background-color: var(--bg-color);\n",
              "    border: none;\n",
              "    border-radius: 50%;\n",
              "    cursor: pointer;\n",
              "    display: none;\n",
              "    fill: var(--fill-color);\n",
              "    height: 32px;\n",
              "    padding: 0;\n",
              "    width: 32px;\n",
              "  }\n",
              "\n",
              "  .colab-df-quickchart:hover {\n",
              "    background-color: var(--hover-bg-color);\n",
              "    box-shadow: 0 1px 2px rgba(60, 64, 67, 0.3), 0 1px 3px 1px rgba(60, 64, 67, 0.15);\n",
              "    fill: var(--button-hover-fill-color);\n",
              "  }\n",
              "\n",
              "  .colab-df-quickchart-complete:disabled,\n",
              "  .colab-df-quickchart-complete:disabled:hover {\n",
              "    background-color: var(--disabled-bg-color);\n",
              "    fill: var(--disabled-fill-color);\n",
              "    box-shadow: none;\n",
              "  }\n",
              "\n",
              "  .colab-df-spinner {\n",
              "    border: 2px solid var(--fill-color);\n",
              "    border-color: transparent;\n",
              "    border-bottom-color: var(--fill-color);\n",
              "    animation:\n",
              "      spin 1s steps(1) infinite;\n",
              "  }\n",
              "\n",
              "  @keyframes spin {\n",
              "    0% {\n",
              "      border-color: transparent;\n",
              "      border-bottom-color: var(--fill-color);\n",
              "      border-left-color: var(--fill-color);\n",
              "    }\n",
              "    20% {\n",
              "      border-color: transparent;\n",
              "      border-left-color: var(--fill-color);\n",
              "      border-top-color: var(--fill-color);\n",
              "    }\n",
              "    30% {\n",
              "      border-color: transparent;\n",
              "      border-left-color: var(--fill-color);\n",
              "      border-top-color: var(--fill-color);\n",
              "      border-right-color: var(--fill-color);\n",
              "    }\n",
              "    40% {\n",
              "      border-color: transparent;\n",
              "      border-right-color: var(--fill-color);\n",
              "      border-top-color: var(--fill-color);\n",
              "    }\n",
              "    60% {\n",
              "      border-color: transparent;\n",
              "      border-right-color: var(--fill-color);\n",
              "    }\n",
              "    80% {\n",
              "      border-color: transparent;\n",
              "      border-right-color: var(--fill-color);\n",
              "      border-bottom-color: var(--fill-color);\n",
              "    }\n",
              "    90% {\n",
              "      border-color: transparent;\n",
              "      border-bottom-color: var(--fill-color);\n",
              "    }\n",
              "  }\n",
              "</style>\n",
              "\n",
              "  <script>\n",
              "    async function quickchart(key) {\n",
              "      const quickchartButtonEl =\n",
              "        document.querySelector('#' + key + ' button');\n",
              "      quickchartButtonEl.disabled = true;  // To prevent multiple clicks.\n",
              "      quickchartButtonEl.classList.add('colab-df-spinner');\n",
              "      try {\n",
              "        const charts = await google.colab.kernel.invokeFunction(\n",
              "            'suggestCharts', [key], {});\n",
              "      } catch (error) {\n",
              "        console.error('Error during call to suggestCharts:', error);\n",
              "      }\n",
              "      quickchartButtonEl.classList.remove('colab-df-spinner');\n",
              "      quickchartButtonEl.classList.add('colab-df-quickchart-complete');\n",
              "    }\n",
              "    (() => {\n",
              "      let quickchartButtonEl =\n",
              "        document.querySelector('#df-4a1b2461-ccc4-4b57-a3a2-52ee75190245 button');\n",
              "      quickchartButtonEl.style.display =\n",
              "        google.colab.kernel.accessAllowed ? 'block' : 'none';\n",
              "    })();\n",
              "  </script>\n",
              "</div>\n",
              "    </div>\n",
              "  </div>\n"
            ],
            "text/plain": [
              "   Petrol_tax  Average_income  Paved_Highways  Population_Driver_licence(%)  \\\n",
              "0         9.0            3571            1976                         0.525   \n",
              "1         9.0            4092            1250                         0.572   \n",
              "2         9.0            3865            1586                         0.580   \n",
              "3         7.5            4870            2351                         0.529   \n",
              "4         8.0            4399             431                         0.544   \n",
              "\n",
              "   Petrol_Consumption  \n",
              "0                 541  \n",
              "1                 524  \n",
              "2                 561  \n",
              "3                 414  \n",
              "4                 410  "
            ]
          },
          "execution_count": 4,
          "metadata": {},
          "output_type": "execute_result"
        }
      ],
      "source": [
        "dataset = pd.read_csv(\"/content/petrol_consumption.csv\")\n",
        "print(dataset.shape)\n",
        "dataset.head()"
      ]
    },
    {
      "cell_type": "code",
      "execution_count": null,
      "metadata": {
        "colab": {
          "base_uri": "https://localhost:8080/",
          "height": 300
        },
        "id": "gZrhFcjRpL4O",
        "outputId": "e52cd2fe-05f8-4dc4-ed86-c91b41b3f7db"
      },
      "outputs": [
        {
          "data": {
            "text/html": [
              "\n",
              "  <div id=\"df-49f39c56-a316-4794-b557-02dadba3f182\" class=\"colab-df-container\">\n",
              "    <div>\n",
              "<style scoped>\n",
              "    .dataframe tbody tr th:only-of-type {\n",
              "        vertical-align: middle;\n",
              "    }\n",
              "\n",
              "    .dataframe tbody tr th {\n",
              "        vertical-align: top;\n",
              "    }\n",
              "\n",
              "    .dataframe thead th {\n",
              "        text-align: right;\n",
              "    }\n",
              "</style>\n",
              "<table border=\"1\" class=\"dataframe\">\n",
              "  <thead>\n",
              "    <tr style=\"text-align: right;\">\n",
              "      <th></th>\n",
              "      <th>Petrol_tax</th>\n",
              "      <th>Average_income</th>\n",
              "      <th>Paved_Highways</th>\n",
              "      <th>Population_Driver_licence(%)</th>\n",
              "      <th>Petrol_Consumption</th>\n",
              "    </tr>\n",
              "  </thead>\n",
              "  <tbody>\n",
              "    <tr>\n",
              "      <th>count</th>\n",
              "      <td>48.000000</td>\n",
              "      <td>48.000000</td>\n",
              "      <td>48.000000</td>\n",
              "      <td>48.000000</td>\n",
              "      <td>48.000000</td>\n",
              "    </tr>\n",
              "    <tr>\n",
              "      <th>mean</th>\n",
              "      <td>7.668333</td>\n",
              "      <td>4241.833333</td>\n",
              "      <td>5565.416667</td>\n",
              "      <td>0.570333</td>\n",
              "      <td>576.770833</td>\n",
              "    </tr>\n",
              "    <tr>\n",
              "      <th>std</th>\n",
              "      <td>0.950770</td>\n",
              "      <td>573.623768</td>\n",
              "      <td>3491.507166</td>\n",
              "      <td>0.055470</td>\n",
              "      <td>111.885816</td>\n",
              "    </tr>\n",
              "    <tr>\n",
              "      <th>min</th>\n",
              "      <td>5.000000</td>\n",
              "      <td>3063.000000</td>\n",
              "      <td>431.000000</td>\n",
              "      <td>0.451000</td>\n",
              "      <td>344.000000</td>\n",
              "    </tr>\n",
              "    <tr>\n",
              "      <th>25%</th>\n",
              "      <td>7.000000</td>\n",
              "      <td>3739.000000</td>\n",
              "      <td>3110.250000</td>\n",
              "      <td>0.529750</td>\n",
              "      <td>509.500000</td>\n",
              "    </tr>\n",
              "    <tr>\n",
              "      <th>50%</th>\n",
              "      <td>7.500000</td>\n",
              "      <td>4298.000000</td>\n",
              "      <td>4735.500000</td>\n",
              "      <td>0.564500</td>\n",
              "      <td>568.500000</td>\n",
              "    </tr>\n",
              "    <tr>\n",
              "      <th>75%</th>\n",
              "      <td>8.125000</td>\n",
              "      <td>4578.750000</td>\n",
              "      <td>7156.000000</td>\n",
              "      <td>0.595250</td>\n",
              "      <td>632.750000</td>\n",
              "    </tr>\n",
              "    <tr>\n",
              "      <th>max</th>\n",
              "      <td>10.000000</td>\n",
              "      <td>5342.000000</td>\n",
              "      <td>17782.000000</td>\n",
              "      <td>0.724000</td>\n",
              "      <td>968.000000</td>\n",
              "    </tr>\n",
              "  </tbody>\n",
              "</table>\n",
              "</div>\n",
              "    <div class=\"colab-df-buttons\">\n",
              "\n",
              "  <div class=\"colab-df-container\">\n",
              "    <button class=\"colab-df-convert\" onclick=\"convertToInteractive('df-49f39c56-a316-4794-b557-02dadba3f182')\"\n",
              "            title=\"Convert this dataframe to an interactive table.\"\n",
              "            style=\"display:none;\">\n",
              "\n",
              "  <svg xmlns=\"http://www.w3.org/2000/svg\" height=\"24px\" viewBox=\"0 -960 960 960\">\n",
              "    <path d=\"M120-120v-720h720v720H120Zm60-500h600v-160H180v160Zm220 220h160v-160H400v160Zm0 220h160v-160H400v160ZM180-400h160v-160H180v160Zm440 0h160v-160H620v160ZM180-180h160v-160H180v160Zm440 0h160v-160H620v160Z\"/>\n",
              "  </svg>\n",
              "    </button>\n",
              "\n",
              "  <style>\n",
              "    .colab-df-container {\n",
              "      display:flex;\n",
              "      gap: 12px;\n",
              "    }\n",
              "\n",
              "    .colab-df-convert {\n",
              "      background-color: #E8F0FE;\n",
              "      border: none;\n",
              "      border-radius: 50%;\n",
              "      cursor: pointer;\n",
              "      display: none;\n",
              "      fill: #1967D2;\n",
              "      height: 32px;\n",
              "      padding: 0 0 0 0;\n",
              "      width: 32px;\n",
              "    }\n",
              "\n",
              "    .colab-df-convert:hover {\n",
              "      background-color: #E2EBFA;\n",
              "      box-shadow: 0px 1px 2px rgba(60, 64, 67, 0.3), 0px 1px 3px 1px rgba(60, 64, 67, 0.15);\n",
              "      fill: #174EA6;\n",
              "    }\n",
              "\n",
              "    .colab-df-buttons div {\n",
              "      margin-bottom: 4px;\n",
              "    }\n",
              "\n",
              "    [theme=dark] .colab-df-convert {\n",
              "      background-color: #3B4455;\n",
              "      fill: #D2E3FC;\n",
              "    }\n",
              "\n",
              "    [theme=dark] .colab-df-convert:hover {\n",
              "      background-color: #434B5C;\n",
              "      box-shadow: 0px 1px 3px 1px rgba(0, 0, 0, 0.15);\n",
              "      filter: drop-shadow(0px 1px 2px rgba(0, 0, 0, 0.3));\n",
              "      fill: #FFFFFF;\n",
              "    }\n",
              "  </style>\n",
              "\n",
              "    <script>\n",
              "      const buttonEl =\n",
              "        document.querySelector('#df-49f39c56-a316-4794-b557-02dadba3f182 button.colab-df-convert');\n",
              "      buttonEl.style.display =\n",
              "        google.colab.kernel.accessAllowed ? 'block' : 'none';\n",
              "\n",
              "      async function convertToInteractive(key) {\n",
              "        const element = document.querySelector('#df-49f39c56-a316-4794-b557-02dadba3f182');\n",
              "        const dataTable =\n",
              "          await google.colab.kernel.invokeFunction('convertToInteractive',\n",
              "                                                    [key], {});\n",
              "        if (!dataTable) return;\n",
              "\n",
              "        const docLinkHtml = 'Like what you see? Visit the ' +\n",
              "          '<a target=\"_blank\" href=https://colab.research.google.com/notebooks/data_table.ipynb>data table notebook</a>'\n",
              "          + ' to learn more about interactive tables.';\n",
              "        element.innerHTML = '';\n",
              "        dataTable['output_type'] = 'display_data';\n",
              "        await google.colab.output.renderOutput(dataTable, element);\n",
              "        const docLink = document.createElement('div');\n",
              "        docLink.innerHTML = docLinkHtml;\n",
              "        element.appendChild(docLink);\n",
              "      }\n",
              "    </script>\n",
              "  </div>\n",
              "\n",
              "\n",
              "<div id=\"df-a21fdad5-7d19-4d4f-95b3-211fc0680eb1\">\n",
              "  <button class=\"colab-df-quickchart\" onclick=\"quickchart('df-a21fdad5-7d19-4d4f-95b3-211fc0680eb1')\"\n",
              "            title=\"Suggest charts.\"\n",
              "            style=\"display:none;\">\n",
              "\n",
              "<svg xmlns=\"http://www.w3.org/2000/svg\" height=\"24px\"viewBox=\"0 0 24 24\"\n",
              "     width=\"24px\">\n",
              "    <g>\n",
              "        <path d=\"M19 3H5c-1.1 0-2 .9-2 2v14c0 1.1.9 2 2 2h14c1.1 0 2-.9 2-2V5c0-1.1-.9-2-2-2zM9 17H7v-7h2v7zm4 0h-2V7h2v10zm4 0h-2v-4h2v4z\"/>\n",
              "    </g>\n",
              "</svg>\n",
              "  </button>\n",
              "\n",
              "<style>\n",
              "  .colab-df-quickchart {\n",
              "      --bg-color: #E8F0FE;\n",
              "      --fill-color: #1967D2;\n",
              "      --hover-bg-color: #E2EBFA;\n",
              "      --hover-fill-color: #174EA6;\n",
              "      --disabled-fill-color: #AAA;\n",
              "      --disabled-bg-color: #DDD;\n",
              "  }\n",
              "\n",
              "  [theme=dark] .colab-df-quickchart {\n",
              "      --bg-color: #3B4455;\n",
              "      --fill-color: #D2E3FC;\n",
              "      --hover-bg-color: #434B5C;\n",
              "      --hover-fill-color: #FFFFFF;\n",
              "      --disabled-bg-color: #3B4455;\n",
              "      --disabled-fill-color: #666;\n",
              "  }\n",
              "\n",
              "  .colab-df-quickchart {\n",
              "    background-color: var(--bg-color);\n",
              "    border: none;\n",
              "    border-radius: 50%;\n",
              "    cursor: pointer;\n",
              "    display: none;\n",
              "    fill: var(--fill-color);\n",
              "    height: 32px;\n",
              "    padding: 0;\n",
              "    width: 32px;\n",
              "  }\n",
              "\n",
              "  .colab-df-quickchart:hover {\n",
              "    background-color: var(--hover-bg-color);\n",
              "    box-shadow: 0 1px 2px rgba(60, 64, 67, 0.3), 0 1px 3px 1px rgba(60, 64, 67, 0.15);\n",
              "    fill: var(--button-hover-fill-color);\n",
              "  }\n",
              "\n",
              "  .colab-df-quickchart-complete:disabled,\n",
              "  .colab-df-quickchart-complete:disabled:hover {\n",
              "    background-color: var(--disabled-bg-color);\n",
              "    fill: var(--disabled-fill-color);\n",
              "    box-shadow: none;\n",
              "  }\n",
              "\n",
              "  .colab-df-spinner {\n",
              "    border: 2px solid var(--fill-color);\n",
              "    border-color: transparent;\n",
              "    border-bottom-color: var(--fill-color);\n",
              "    animation:\n",
              "      spin 1s steps(1) infinite;\n",
              "  }\n",
              "\n",
              "  @keyframes spin {\n",
              "    0% {\n",
              "      border-color: transparent;\n",
              "      border-bottom-color: var(--fill-color);\n",
              "      border-left-color: var(--fill-color);\n",
              "    }\n",
              "    20% {\n",
              "      border-color: transparent;\n",
              "      border-left-color: var(--fill-color);\n",
              "      border-top-color: var(--fill-color);\n",
              "    }\n",
              "    30% {\n",
              "      border-color: transparent;\n",
              "      border-left-color: var(--fill-color);\n",
              "      border-top-color: var(--fill-color);\n",
              "      border-right-color: var(--fill-color);\n",
              "    }\n",
              "    40% {\n",
              "      border-color: transparent;\n",
              "      border-right-color: var(--fill-color);\n",
              "      border-top-color: var(--fill-color);\n",
              "    }\n",
              "    60% {\n",
              "      border-color: transparent;\n",
              "      border-right-color: var(--fill-color);\n",
              "    }\n",
              "    80% {\n",
              "      border-color: transparent;\n",
              "      border-right-color: var(--fill-color);\n",
              "      border-bottom-color: var(--fill-color);\n",
              "    }\n",
              "    90% {\n",
              "      border-color: transparent;\n",
              "      border-bottom-color: var(--fill-color);\n",
              "    }\n",
              "  }\n",
              "</style>\n",
              "\n",
              "  <script>\n",
              "    async function quickchart(key) {\n",
              "      const quickchartButtonEl =\n",
              "        document.querySelector('#' + key + ' button');\n",
              "      quickchartButtonEl.disabled = true;  // To prevent multiple clicks.\n",
              "      quickchartButtonEl.classList.add('colab-df-spinner');\n",
              "      try {\n",
              "        const charts = await google.colab.kernel.invokeFunction(\n",
              "            'suggestCharts', [key], {});\n",
              "      } catch (error) {\n",
              "        console.error('Error during call to suggestCharts:', error);\n",
              "      }\n",
              "      quickchartButtonEl.classList.remove('colab-df-spinner');\n",
              "      quickchartButtonEl.classList.add('colab-df-quickchart-complete');\n",
              "    }\n",
              "    (() => {\n",
              "      let quickchartButtonEl =\n",
              "        document.querySelector('#df-a21fdad5-7d19-4d4f-95b3-211fc0680eb1 button');\n",
              "      quickchartButtonEl.style.display =\n",
              "        google.colab.kernel.accessAllowed ? 'block' : 'none';\n",
              "    })();\n",
              "  </script>\n",
              "</div>\n",
              "    </div>\n",
              "  </div>\n"
            ],
            "text/plain": [
              "       Petrol_tax  Average_income  Paved_Highways  \\\n",
              "count   48.000000       48.000000       48.000000   \n",
              "mean     7.668333     4241.833333     5565.416667   \n",
              "std      0.950770      573.623768     3491.507166   \n",
              "min      5.000000     3063.000000      431.000000   \n",
              "25%      7.000000     3739.000000     3110.250000   \n",
              "50%      7.500000     4298.000000     4735.500000   \n",
              "75%      8.125000     4578.750000     7156.000000   \n",
              "max     10.000000     5342.000000    17782.000000   \n",
              "\n",
              "       Population_Driver_licence(%)  Petrol_Consumption  \n",
              "count                     48.000000           48.000000  \n",
              "mean                       0.570333          576.770833  \n",
              "std                        0.055470          111.885816  \n",
              "min                        0.451000          344.000000  \n",
              "25%                        0.529750          509.500000  \n",
              "50%                        0.564500          568.500000  \n",
              "75%                        0.595250          632.750000  \n",
              "max                        0.724000          968.000000  "
            ]
          },
          "execution_count": 5,
          "metadata": {},
          "output_type": "execute_result"
        }
      ],
      "source": [
        "dataset.describe()"
      ]
    },
    {
      "cell_type": "code",
      "execution_count": null,
      "metadata": {
        "id": "8y8l8L37pL4O"
      },
      "outputs": [],
      "source": [
        "x = dataset[\n",
        "    [\"Petrol_tax\", \"Average_income\", \"Paved_Highways\", \"Population_Driver_licence(%)\"]\n",
        "]\n",
        "y = dataset[\"Petrol_Consumption\"]"
      ]
    },
    {
      "cell_type": "code",
      "execution_count": null,
      "metadata": {
        "id": "bRXJ4U0tpL4O"
      },
      "outputs": [],
      "source": [
        "set_seed()\n",
        "x_train, x_test, y_train, y_test = train_test_split(x, y, test_size=0.2, random_state=42)"
      ]
    },
    {
      "cell_type": "code",
      "execution_count": null,
      "metadata": {
        "id": "81ulYbrfpL4O"
      },
      "outputs": [],
      "source": [
        "# Normalization\n",
        "# Your code here"
      ]
    },
    {
      "cell_type": "code",
      "execution_count": null,
      "metadata": {
        "id": "T7y5ZowVpL4O"
      },
      "outputs": [],
      "source": [
        "# Multiple regression\n",
        "# Your code here"
      ]
    },
    {
      "cell_type": "code",
      "execution_count": null,
      "metadata": {
        "id": "EAVypBjHpL4P"
      },
      "outputs": [],
      "source": [
        "# Print table\n",
        "y_pred = regressor.predict(x_test)\n",
        "df = pd.DataFrame({\"Actual\": y_test, \"Predicted\": y_pred})\n",
        "df"
      ]
    },
    {
      "cell_type": "code",
      "execution_count": null,
      "metadata": {
        "id": "D2IVKVCApL4P"
      },
      "outputs": [],
      "source": [
        "# Metrics\n",
        "# Your code here"
      ]
    },
    {
      "cell_type": "markdown",
      "metadata": {
        "id": "WLtjxNQ4pL4P"
      },
      "source": [
        "## Формат результата"
      ]
    },
    {
      "cell_type": "markdown",
      "metadata": {
        "id": "exfyU7Y1pL4P"
      },
      "source": [
        "Вывод метрик качества:\n",
        "\n",
        "* Mean Absolute Error ~ 60\n",
        "* Mean Squared Error: ~ 4700\n",
        "* Root Mean Squared Error: ~ 70"
      ]
    },
    {
      "cell_type": "markdown",
      "metadata": {
        "id": "emCb0YNMpL4P"
      },
      "source": [
        "# Задание 2. Kernel SVM"
      ]
    },
    {
      "cell_type": "markdown",
      "metadata": {
        "id": "wCPboZsopL4P"
      },
      "source": [
        "В этом задании вы будете применять обобщенную линейную модель Kernel SVM, для решения нелинейной задачи.  \n",
        "\n",
        "Для этого задания мы сгенерируем датасет, представляющий собой **две закрученные спирали**, относящиеся к разным классам. Для этого воспользуемся кодом из [источника](https://glowingpython.blogspot.com/2017/04/solving-two-spirals-problem-with-keras.html). Такие данные могут вызвать проблемы не только у линейной модели, но и у маленькой нейронной сети."
      ]
    },
    {
      "cell_type": "markdown",
      "metadata": {
        "id": "9Algsm0NpL4P"
      },
      "source": [
        "Импорт необходимых библиотек:"
      ]
    },
    {
      "cell_type": "code",
      "execution_count": null,
      "metadata": {
        "id": "HiyiXy4bpL4P"
      },
      "outputs": [],
      "source": [
        "import random\n",
        "import numpy as np\n",
        "import seaborn as sns\n",
        "import matplotlib.pyplot as plt\n",
        "from sklearn import svm\n",
        "from sklearn.model_selection import train_test_split\n",
        "from sklearn.preprocessing import StandardScaler\n",
        "from matplotlib.colors import ListedColormap\n",
        "from sklearn.inspection import DecisionBoundaryDisplay\n",
        "from sklearn.metrics import accuracy_score\n",
        "from sklearn.model_selection import cross_val_score"
      ]
    },
    {
      "cell_type": "markdown",
      "metadata": {
        "id": "9snBr-Z1pL4P"
      },
      "source": [
        "Генерация датасета:"
      ]
    },
    {
      "cell_type": "code",
      "execution_count": null,
      "metadata": {
        "colab": {
          "base_uri": "https://localhost:8080/",
          "height": 465
        },
        "id": "HL4FR548pL4P",
        "outputId": "a6a7d1a8-00d6-4c73-e821-763ba8b4de97"
      },
      "outputs": [
        {
          "data": {
            "image/png": "[encoded data removed]",
            "text/plain": [
              "<Figure size 500x500 with 1 Axes>"
            ]
          },
          "metadata": {},
          "output_type": "display_data"
        }
      ],
      "source": [
        "set_seed()\n",
        "\n",
        "\n",
        "def twospirals(n_points, noise=0.8):\n",
        "    \"\"\"\n",
        "    Returns the two spirals dataset.\n",
        "    \"\"\"\n",
        "    n = np.sqrt(np.random.rand(n_points, 1)) * 780 * (2 * np.pi) / 360\n",
        "    d1x = -np.cos(n) * n + np.random.rand(n_points, 1) * noise\n",
        "    d1y = np.sin(n) * n + np.random.rand(n_points, 1) * noise\n",
        "    return (\n",
        "        np.vstack((np.hstack((d1x, d1y)), np.hstack((-d1x, -d1y)))),\n",
        "        np.hstack((np.zeros(n_points), np.ones(n_points))),\n",
        "    )\n",
        "\n",
        "\n",
        "x, y = twospirals(500)\n",
        "fig, ax = plt.subplots(1, 1, figsize=(5, 5))\n",
        "\n",
        "sns.scatterplot(x=x[:, 0], y=x[:, 1], hue=y, s=50, ax=ax)\n",
        "handles, labels = ax.get_legend_handles_labels()\n",
        "ax.legend(handles, [\"class 0\", \"class 1\"])\n",
        "ax.set(xlabel=\"feature 1\", ylabel=\"feature 2\")\n",
        "plt.show()"
      ]
    },
    {
      "cell_type": "markdown",
      "metadata": {
        "id": "vwp5QucOpL4P"
      },
      "source": [
        "Разделите датасет на **тренировочную и тестовую части** в соотношении 4 к 1 (`random_state=42`):"
      ]
    },
    {
      "cell_type": "code",
      "execution_count": null,
      "metadata": {
        "id": "T8dKSFsIpL4P"
      },
      "outputs": [],
      "source": [
        "set_seed()\n",
        "# Your code here"
      ]
    },
    {
      "cell_type": "markdown",
      "metadata": {
        "id": "bvAAZom9pL4Q"
      },
      "source": [
        "**Нормализуйте признаки** (подсказка: не “подглядывайте” в test):\n"
      ]
    },
    {
      "cell_type": "code",
      "execution_count": null,
      "metadata": {
        "id": "3xFh4qFJpL4Q"
      },
      "outputs": [],
      "source": [
        "# Your code here"
      ]
    },
    {
      "cell_type": "markdown",
      "metadata": {
        "id": "VmPxu05fpL4Q"
      },
      "source": [
        "Попробуйте применить различные ядра для `svm.SVC`. Постройте **разделяющие кривые для train** части датасета. Посчитайте значения метрики **accuracy для test** части датасета."
      ]
    },
    {
      "cell_type": "code",
      "execution_count": null,
      "metadata": {
        "id": "ogW7dVzopL4Q"
      },
      "outputs": [],
      "source": [
        "# Your code here"
      ]
    },
    {
      "cell_type": "markdown",
      "metadata": {
        "id": "d4d_lj3cpL4Q"
      },
      "source": [
        "Ядра со значениями по умолчанию не позволяют качественно разделить классы. Для решения задачи необходимо изменить параметры ядра.\n",
        "\n",
        "Выберете ядро, которое дает **наилучшее значение accuracy**, ознакомьтесь со **списком настраиваемых параметров** этого ядра в документации [`sklearn`](https://scikit-learn.org/stable/modules/svm.html#kernel-functions), **подберите гиперпараметры модели**. Для подбора гиперпараметров модели воспользуйтесь кросс-валидацией (`cross_val_score`). Пример подбора параметров можно найти в [документации](https://scikit-learn.org/stable/auto_examples/exercises/plot_cv_digits.html#sphx-glr-auto-examples-exercises-plot-cv-digits-py).Также можно использовать [GridSearchCV](https://scikit-learn.org/stable/modules/generated/sklearn.model_selection.GridSearchCV.html) или [RandomizedSearchCV](https://scikit-learn.org/stable/modules/generated/sklearn.model_selection.RandomizedSearchCV.html#sklearn.model_selection.RandomizedSearchCV). Используйте разбиение на 4 фолда и `accuracy` в качестве целевой метрики.\n",
        "\n",
        "Подсказка: при очень больших значения обратного коэффициента нормализации модель может плохо сходиться. Ограничьтесь максимальным значением  $10^5$."
      ]
    },
    {
      "cell_type": "code",
      "execution_count": null,
      "metadata": {
        "id": "WJMml0StpL4Q"
      },
      "outputs": [],
      "source": [
        "# Your code here"
      ]
    },
    {
      "cell_type": "markdown",
      "metadata": {
        "id": "hmMjo6SApL4Q"
      },
      "source": [
        "Обучите модель с подобранными гиперпараметрами. Постройте разделяющую кривую для train части датасета и значение accuracy для test."
      ]
    },
    {
      "cell_type": "code",
      "execution_count": null,
      "metadata": {
        "id": "M1hUFajZpL4Q"
      },
      "outputs": [],
      "source": [
        "# Your code here"
      ]
    },
    {
      "cell_type": "markdown",
      "metadata": {
        "id": "suR6HXj7pL4Q"
      },
      "source": [
        "## Формат результата"
      ]
    },
    {
      "cell_type": "markdown",
      "metadata": {
        "id": "wItZmG-SpL4R"
      },
      "source": [
        "* Значение accuracy для test части датасета >0.95.\n",
        "* График разделяющей кривой для train части датасета.\n",
        "\n",
        "Пример графика:\n",
        "\n",
        "<img src =\"https://edunet.kea.su/repo/EduNet-web_dependencies/dev-2.0/Exercises/EX02/result_2_task_ex02.png\" width=\"500\">"
      ]
    },
    {
      "cell_type": "markdown",
      "metadata": {
        "id": "Y008Z2xLpL4R"
      },
      "source": [
        "# Задание 3. Модель классификатора"
      ]
    },
    {
      "cell_type": "markdown",
      "metadata": {
        "id": "7oPvoUubpL4R"
      },
      "source": [
        "В этом задании нужно написать линейный классификатор и обучить его на датасете CIFAR-10."
      ]
    },
    {
      "cell_type": "markdown",
      "metadata": {
        "id": "kMhk1WeJpL4R"
      },
      "source": [
        "Импорт необходимых библиотек:"
      ]
    },
    {
      "cell_type": "code",
      "execution_count": null,
      "metadata": {
        "id": "XrEixJrDpL4R"
      },
      "outputs": [],
      "source": [
        "import sys\n",
        "import random\n",
        "import numpy as np\n",
        "import matplotlib.pyplot as plt\n",
        "from torchvision import datasets\n",
        "from collections import defaultdict\n",
        "from sklearn.metrics import accuracy_score\n",
        "from IPython.display import clear_output"
      ]
    },
    {
      "cell_type": "markdown",
      "metadata": {
        "id": "oda1sR62pL4R"
      },
      "source": [
        "Для оценки прогресса обучения мы будем использовать следующий код для визуализации:"
      ]
    },
    {
      "cell_type": "code",
      "execution_count": null,
      "metadata": {
        "id": "r9VjKg1KpL4R"
      },
      "outputs": [],
      "source": [
        "class ProgressPlotter:\n",
        "    def __init__(self) -> None:\n",
        "        self._history_dict = defaultdict(list)\n",
        "\n",
        "    def add_scalar(self, tag: str, value) -> None:\n",
        "        self._history_dict[tag].append(value)\n",
        "\n",
        "    def display_plot(self) -> None:\n",
        "        clear_output()\n",
        "        n_keys = len(self._history_dict)\n",
        "        fig, ax = plt.subplots(n_keys, 1, figsize=(12, 3 * n_keys))\n",
        "        for key_idx, key in enumerate(self._history_dict.keys()):\n",
        "            history_len = len(self._history_dict[key])\n",
        "            if n_keys == 1:\n",
        "                ax.plot(self._history_dict[key], color=\"c\", marker=\"X\")\n",
        "                ax.set_ylabel(key)\n",
        "                ax.set_xlabel(\"step\")\n",
        "                ax.set_xticks(np.arange(history_len))\n",
        "                ax.set_xticklabels(np.arange(history_len))\n",
        "            elif n_keys > 1:\n",
        "                ax[key_idx].plot(self._history_dict[key], color=\"c\", marker=\"X\")\n",
        "                ax[key_idx].set_ylabel(key)\n",
        "                ax[key_idx].set_xlabel(\"step\")\n",
        "                ax[key_idx].set_xticks(np.arange(history_len))\n",
        "                ax[key_idx].set_xticklabels(np.arange(history_len))\n",
        "        fig.tight_layout()\n",
        "        plt.show()"
      ]
    },
    {
      "cell_type": "markdown",
      "metadata": {
        "id": "KmO_5LoMpL4S"
      },
      "source": [
        "Вам не обязательно подробно разбираться с этим кодом, но для отладки (чтобы вы могли понять, как он работает, какие переменные в каком формате поступают на вход и т.д.) приводим пример работы:"
      ]
    },
    {
      "cell_type": "code",
      "execution_count": null,
      "metadata": {
        "colab": {
          "base_uri": "https://localhost:8080/",
          "height": 541
        },
        "id": "z9i9fi5qpL4S",
        "outputId": "8ed1158f-4724-4d84-8119-79b40756cb48"
      },
      "outputs": [
        {
          "output_type": "display_data",
          "data": {
            "text/plain": [
              "<Figure size 1200x600 with 2 Axes>"
            ],
            "image/png": "[encoded data removed]"
          },
          "metadata": {}
        }
      ],
      "source": [
        "pp = ProgressPlotter()\n",
        "\n",
        "for i in range(4):\n",
        "    pp.add_scalar(tag=\"dummy metric\", value=i)\n",
        "    pp.add_scalar(tag=\"another metric\", value=i**2 + 101)\n",
        "    pp.display_plot()"
      ]
    },
    {
      "cell_type": "markdown",
      "metadata": {
        "id": "RGaEpMQhpL4S"
      },
      "source": [
        "## Скачивание датасета CIFAR-10"
      ]
    },
    {
      "cell_type": "markdown",
      "metadata": {
        "id": "67Y5ZYs4pL4S"
      },
      "source": [
        "### Стандартный способ"
      ]
    },
    {
      "cell_type": "code",
      "execution_count": null,
      "metadata": {
        "colab": {
          "base_uri": "https://localhost:8080/"
        },
        "id": "iuYoye7hpL4S",
        "outputId": "765f6f1e-0cdc-4229-9a89-45fc28349d40"
      },
      "outputs": [
        {
          "output_type": "stream",
          "name": "stdout",
          "text": [
            "Files already downloaded and verified\n",
            "Files already downloaded and verified\n"
          ]
        }
      ],
      "source": [
        "train_dataset = datasets.CIFAR10(\"content\", train=True, download=True)\n",
        "test_dataset = datasets.CIFAR10(\"content\", train=False, download=True)"
      ]
    },
    {
      "cell_type": "code",
      "execution_count": null,
      "metadata": {
        "colab": {
          "base_uri": "https://localhost:8080/"
        },
        "id": "cuOu172XpL4S",
        "outputId": "ffd0fe34-45e8-41f0-e091-c855e0af730d"
      },
      "outputs": [
        {
          "output_type": "stream",
          "name": "stdout",
          "text": [
            "labels:  ['Airplane', 'Car', 'Bird', 'Cat', 'Deer', 'Dog', 'Frog', 'Horse', 'Ship', 'Truck']\n",
            "Training data shape:  (50000, 3072)\n",
            "Training labels shape:  (50000,)\n",
            "Test data shape:  (10000, 3072)\n",
            "Test labels shape:  (10000,)\n"
          ]
        }
      ],
      "source": [
        "x_train = np.array(train_dataset.data)\n",
        "x_test = np.array(test_dataset.data)\n",
        "\n",
        "y_train = np.array(train_dataset.targets)\n",
        "y_test = np.array(test_dataset.targets)\n",
        "\n",
        "# flatten\n",
        "x_train = x_train.transpose(0, 3, 2, 1).reshape(x_train.shape[0], -1)\n",
        "x_test = x_test.transpose(0, 3, 2, 1).reshape(x_test.shape[0], -1)\n",
        "\n",
        "labels = [\n",
        "    \"Airplane\",\n",
        "    \"Car\",\n",
        "    \"Bird\",\n",
        "    \"Cat\",\n",
        "    \"Deer\",\n",
        "    \"Dog\",\n",
        "    \"Frog\",\n",
        "    \"Horse\",\n",
        "    \"Ship\",\n",
        "    \"Truck\",\n",
        "]\n",
        "\n",
        "\n",
        "def to_img(arr):\n",
        "    # Transform data from vector to array with 3 channel(RGB)\n",
        "    img = (arr * 255).reshape(32, 32, 3).astype(int)\n",
        "    return img\n",
        "\n",
        "\n",
        "# display data(shape [..., 3072])\n",
        "print(\"labels: \", labels)\n",
        "print(\"Training data shape: \", x_train.shape)\n",
        "print(\"Training labels shape: \", y_train.shape)\n",
        "print(\"Test data shape: \", x_test.shape)\n",
        "print(\"Test labels shape: \", y_test.shape)"
      ]
    },
    {
      "cell_type": "markdown",
      "metadata": {
        "id": "36SwX3dzpL4S"
      },
      "source": [
        "### Способ через colab"
      ]
    },
    {
      "cell_type": "markdown",
      "metadata": {
        "id": "Vo0FOwJSpL4S"
      },
      "source": [
        "В этом разделе код для скачивания нестандартного датасета, который покажет, как загружать датасеты в colab.\n"
      ]
    },
    {
      "cell_type": "code",
      "execution_count": null,
      "metadata": {
        "colab": {
          "base_uri": "https://localhost:8080/"
        },
        "id": "cfaRHi22pL4S",
        "outputId": "c52e03eb-cc70-4752-9945-4a95b4034a46"
      },
      "outputs": [
        {
          "output_type": "stream",
          "name": "stdout",
          "text": [
            "--2023-10-21 11:22:45--  https://edunet.kea.su/repo/EduNet-web_dependencies/datasets/cifar-10-python.tar.gz\n",
            "Resolving edunet.kea.su (edunet.kea.su)... 89.175.15.242\n",
            "Connecting to edunet.kea.su (edunet.kea.su)|89.175.15.242|:443... connected.\n",
            "HTTP request sent, awaiting response... 200 OK\n",
            "Length: 170498071 (163M) [application/octet-stream]\n",
            "Saving to: ‘cifar-10-python.tar.gz.1’\n",
            "\n",
            "cifar-10-python.tar 100%[===================>] 162.60M  3.57MB/s    in 47s     \n",
            "\n",
            "2023-10-21 11:23:34 (3.43 MB/s) - ‘cifar-10-python.tar.gz.1’ saved [170498071/170498071]\n",
            "\n",
            "total 333020\n",
            "drwxr-xr-x 2 2156 1103      4096 Jun  4  2009 cifar-10-batches-py\n",
            "-rw-r--r-- 1 root root 170498071 Jul 27 14:20 cifar-10-python.tar.gz\n",
            "-rw-r--r-- 1 root root 170498071 Jul 27 14:20 cifar-10-python.tar.gz.1\n",
            "drwxr-xr-x 3 root root      4096 Oct 21 11:19 content\n",
            "drwxr-xr-x 1 root root      4096 Oct 19 16:36 sample_data\n"
          ]
        }
      ],
      "source": [
        "IN_COLAB = \"google.colab\" in sys.modules\n",
        "if IN_COLAB:\n",
        "    !wget https://edunet.kea.su/repo/EduNet-web_dependencies/datasets/cifar-10-python.tar.gz\n",
        "    !tar -xzf cifar-10-python.tar.gz\n",
        "    !ls -l\n",
        "    top_path = \"/content\"\n",
        "else:\n",
        "    top_path = \"\"\n",
        "    print(\"You didn't run code in colab\")"
      ]
    },
    {
      "cell_type": "markdown",
      "metadata": {
        "id": "9IjTOyyspL4S"
      },
      "source": [
        "Распакуем данные"
      ]
    },
    {
      "cell_type": "code",
      "execution_count": null,
      "metadata": {
        "colab": {
          "base_uri": "https://localhost:8080/"
        },
        "id": "_zY7DmC6pL4S",
        "outputId": "72c0a9ac-4b65-470c-b336-197e67b3ab2a"
      },
      "outputs": [
        {
          "output_type": "stream",
          "name": "stdout",
          "text": [
            "labels:  ['airplane', 'automobile', 'bird', 'cat', 'deer', 'dog', 'frog', 'horse', 'ship', 'truck']\n",
            "Training data shape:  (50000, 3072)\n",
            "Training labels shape:  (50000,)\n",
            "Test data shape:  (10000, 3072)\n",
            "Test labels shape:  (10000,)\n"
          ]
        }
      ],
      "source": [
        "# Recreating python object from the bytecode of the batches\n",
        "def unpickle(file, encoding=\"bytes\"):\n",
        "    import pickle\n",
        "\n",
        "    with open(file, \"rb\") as fo:\n",
        "        dict = pickle.load(fo, encoding=encoding)\n",
        "    return dict\n",
        "\n",
        "\n",
        "def load_train_data():\n",
        "    x_train = []\n",
        "    y_train = []\n",
        "    for i in range(1, 6):\n",
        "        raw = unpickle(f\"cifar-10-batches-py/data_batch_{i}\")\n",
        "        x_train.append(raw[b\"data\"])\n",
        "        y_train.append(raw[b\"labels\"])\n",
        "    x_train = np.vstack(x_train)\n",
        "    y_train = np.hstack(y_train)\n",
        "    return x_train, y_train\n",
        "\n",
        "\n",
        "x_train, y_train = load_train_data()\n",
        "\n",
        "#  load test data\n",
        "test = unpickle(top_path + \"/cifar-10-batches-py/test_batch\")\n",
        "x_test = np.array(test[b\"data\"])\n",
        "y_test = np.array(test[b\"labels\"])\n",
        "\n",
        "# load classes names\n",
        "meta = unpickle(top_path + \"/cifar-10-batches-py/batches.meta\", \"utf-8\")\n",
        "labels = meta[\"label_names\"]\n",
        "\n",
        "\n",
        "def to_img(arr):\n",
        "    # Transform data from vector to array with 3 channel(RGB)\n",
        "    img = arr.reshape(3, 32, 32).transpose(1, 2, 0).astype(int)\n",
        "    return img\n",
        "\n",
        "\n",
        "# display data(shape [..., 3072])\n",
        "print(\"labels: \", labels)\n",
        "print(\"Training data shape: \", x_train.shape)\n",
        "print(\"Training labels shape: \", y_train.shape)\n",
        "print(\"Test data shape: \", x_test.shape)\n",
        "print(\"Test labels shape: \", y_test.shape)"
      ]
    },
    {
      "cell_type": "markdown",
      "metadata": {
        "id": "SnweLXsDpL4S"
      },
      "source": [
        "### Локальный способ"
      ]
    },
    {
      "cell_type": "markdown",
      "metadata": {
        "id": "76eB1JTepL4T"
      },
      "source": [
        "Эта инструкция нужна, если вы запускаете блокнот локально:\n",
        "1. Скачайте архив с датасетом CIFAR-10 с оффициального\n",
        "[сайта](https://www.cs.toronto.edu/~kriz/cifar-10-python.tar.gz). И не удаляйте его в течение курса, он ещё не раз пригодится.\n",
        "2. Распакуйте архив в папку с заданием.\n",
        "3. Проверьте, в какой директории запущен блокнот, командой `cd`.\n",
        "4. Если директория не та, в которой лежат файлы датасета, смените её с помощью `cd C:\\some\\directory\\with\\dataset`.\n",
        "5. Проверьте командой `ls`, видит ли блокнот файлы датасета."
      ]
    },
    {
      "cell_type": "markdown",
      "metadata": {
        "id": "EXAJ3feIpL4T"
      },
      "source": [
        "## Просмотр данных"
      ]
    },
    {
      "cell_type": "markdown",
      "metadata": {
        "id": "lZ8iAP-ZpL4T"
      },
      "source": [
        "Отобразим данные графически:"
      ]
    },
    {
      "cell_type": "code",
      "execution_count": null,
      "metadata": {
        "id": "zMXQt0C0pL4T",
        "colab": {
          "base_uri": "https://localhost:8080/",
          "height": 128
        },
        "outputId": "52a8b44f-fb8d-4f01-dcd5-b6d2e860f6a5"
      },
      "outputs": [
        {
          "output_type": "display_data",
          "data": {
            "text/plain": [
              "<Figure size 2500x1000 with 10 Axes>"
            ],
            "image/png": "[encoded data removed]"
          },
          "metadata": {}
        }
      ],
      "source": [
        "def to_img(arr):\n",
        "    # Transform data from vector to array with 3 channel(RGB)\n",
        "    img = arr.reshape(3, 32, 32).transpose(1, 2, 0).astype(int)\n",
        "    return img\n",
        "\n",
        "\n",
        "plt.rcParams[\"figure.figsize\"] = (25, 10)\n",
        "image_to_display = 10\n",
        "j = 1\n",
        "for i in random.sample(range(0, len(x_train)), image_to_display):\n",
        "    plt.subplot(1, image_to_display, j)\n",
        "    plt.imshow(to_img(x_train[i]))\n",
        "    plt.axis(\"off\")\n",
        "    plt.title(labels[int(y_train[i])])\n",
        "    j += 1"
      ]
    },
    {
      "cell_type": "markdown",
      "metadata": {
        "id": "VV_g8FbepL4T"
      },
      "source": [
        "## Написание модели"
      ]
    },
    {
      "cell_type": "markdown",
      "metadata": {
        "id": "PxozssGepL4T"
      },
      "source": [
        "В этой части вам предлагается написать два класса:\n",
        "* первый — это `Linear` — линейная модель или линейный слой (про слои вы подробнее узнаете на 5-й лекции), который будет обучаться;\n",
        "* второй — `CrossEntopy`, включающий SoftMax и CrossEntropy Loss (они объединены вместе для удобства расчета градиента), в котором логиты с выхода линейной модели будут преобразовываться в вероятности, после чего будет рассчитываться Loss функция."
      ]
    },
    {
      "cell_type": "markdown",
      "metadata": {
        "id": "t8AlA34vpL4T"
      },
      "source": [
        "Вам даны шаблоны классов, в которых нужно заполнить пробелы в точках `# Your code here`. Обратите внимание на то, как оформлены комментарии. Такой стиль оформления называется docstring, подробно  об оформлении кода можно почитать по [ссылке](https://www.programiz.com/python-programming/docstrings)."
      ]
    },
    {
      "cell_type": "markdown",
      "metadata": {
        "id": "6OEkNPy0pL4T"
      },
      "source": [
        "Подсказка: не забудьте про трюк “столбец единиц”"
      ]
    },
    {
      "cell_type": "code",
      "execution_count": null,
      "metadata": {
        "id": "XDnmKQXLpL4T"
      },
      "outputs": [],
      "source": [
        "class Linear:\n",
        "    \"\"\"Linear layer\"\"\"\n",
        "\n",
        "    def __init__(self, input_size, classes_num):\n",
        "        \"\"\"\n",
        "        Initializing of weights\n",
        "\n",
        "        Parameters\n",
        "        ----------\n",
        "        input_size: int\n",
        "            number of input features\n",
        "        classes_num: int\n",
        "            number of output logits (number of classes)\n",
        "        \"\"\"\n",
        "        # Generate a random weight matrix of small numbers\n",
        "        # Number of weights changed from input_size to input_size+1 for implement bias trick\n",
        "        self.w = np.random.randn(input_size + 1, classes_num) * 0.0001\n",
        "\n",
        "    def forward(self, x):\n",
        "        \"\"\"\n",
        "        Forward pass of linear layer: logit calculation.\n",
        "        (save self.x for using for grad function)\n",
        "\n",
        "        Parameters\n",
        "        ----------\n",
        "        x: np.array\n",
        "            array of input features with size [batch_size, input_size]\n",
        "\n",
        "        Returns\n",
        "        -------\n",
        "        s: np.array\n",
        "            array of logits for all classes with size [batch_size, classes_num]\n",
        "        \"\"\"\n",
        "        # Your code here\n",
        "\n",
        "        return s\n",
        "\n",
        "    def grad(self, dl_ds):\n",
        "        \"\"\"\n",
        "        Gradient calculation\n",
        "        (use self.x, save self.dl_dw - gradient dL/dw)\n",
        "\n",
        "        Parameters\n",
        "        ----------\n",
        "        dl_ds: np.array\n",
        "            array of gradient dL/ds, s - logit\n",
        "            with size [batch_size, classes_num]\n",
        "        \"\"\"\n",
        "        # Your code here\n",
        "\n",
        "    def step(self, lr):\n",
        "        \"\"\"\n",
        "        Gradient descent step\n",
        "        Changing self.w values with using self.dl_dw\n",
        "\n",
        "        Parameters\n",
        "        ----------\n",
        "        lr: float\n",
        "            learning rate\n",
        "        \"\"\"\n",
        "        # Your code here"
      ]
    },
    {
      "cell_type": "markdown",
      "metadata": {
        "id": "iG6ohgpQAYr8"
      },
      "source": [
        "Подсказка: используйте `axis=1, keepdims=True` при вычислении максимумов и сумм по строкам. Не забудьте о методе избегания None в расчете SoftMax."
      ]
    },
    {
      "cell_type": "code",
      "execution_count": null,
      "metadata": {
        "id": "rQNPTCDupL4T"
      },
      "outputs": [],
      "source": [
        "class CrossEntopy:\n",
        "    \"\"\"SoftMax and CrossEntropy\"\"\"\n",
        "\n",
        "    def forward(self, s, y_true):\n",
        "        \"\"\"\n",
        "        Forward pass of SoftMax and CrossEntropy: loss calculation.\n",
        "        (save\n",
        "         self.probs - probability of labels with size [batch_size, classes_num])\n",
        "         self.y_true - true class labels  with size [batch_size]\n",
        "         for using for grad function)\n",
        "\n",
        "        Parameters\n",
        "        ----------\n",
        "        s: np.array\n",
        "            array of logits for all classes with size [batch_size, classes_num]\n",
        "\n",
        "        Returns\n",
        "        -------\n",
        "        loss: float\n",
        "            sum of loss for objects sum(loss_i)/batch_size\n",
        "        \"\"\"\n",
        "        self.y_true = y_true\n",
        "        self.batch_size = s.shape[0]\n",
        "\n",
        "        # SoftMax\n",
        "        # Your code here\n",
        "\n",
        "        # Loss\n",
        "        # Your code here\n",
        "\n",
        "        return loss / self.batch_size\n",
        "\n",
        "    def grad(self):\n",
        "        \"\"\"\n",
        "        Gradient calculation\n",
        "        (use self.probs and self.y_true,\n",
        "         don't forget divide by batch size)\n",
        "\n",
        "        Returns\n",
        "        -------\n",
        "        dl_ds: np.array\n",
        "            array of gradient dL/ds, s - logit\n",
        "            with size [batch_size, classes_num]\n",
        "        \"\"\"\n",
        "        # with dividing by batch size\n",
        "        # Your code here\n",
        "        return dl_ds / self.batch_size"
      ]
    },
    {
      "cell_type": "markdown",
      "metadata": {
        "id": "mvCwKft6pL4T"
      },
      "source": [
        "## Обучение модели"
      ]
    },
    {
      "cell_type": "markdown",
      "metadata": {
        "id": "pXm78x1RpL4U"
      },
      "source": [
        "В этой части задания нужно написать класс `LinearClassifier`, в котором будет происходить обучение модели.\n",
        "\n",
        "Подсказка: суммируйте `loss` со всех батчей."
      ]
    },
    {
      "cell_type": "code",
      "execution_count": null,
      "metadata": {
        "id": "ICnknRx-pL4U"
      },
      "outputs": [],
      "source": [
        "random.seed(42)\n",
        "np.random.seed(42)\n",
        "\n",
        "class LinearClassifier:\n",
        "    def __init__(self, input_size, classes_num, batch_size=256):\n",
        "        \"\"\"\n",
        "        Initialization of parts and hyperparameters of the model\n",
        "\n",
        "        Parameters\n",
        "        ----------\n",
        "        input_size: int\n",
        "            number of input features\n",
        "        classes_num: int\n",
        "            number of classes\n",
        "        batch_size: int\n",
        "            number of objects in batch\n",
        "        \"\"\"\n",
        "        self.linear = Linear(input_size, classes_num)\n",
        "        self.loss = CrossEntopy()\n",
        "        self.batch_size = batch_size\n",
        "\n",
        "    def epoch(self, x, y, lr=1e-7, train=True):\n",
        "        \"\"\"\n",
        "        One epoch of model training or validation\n",
        "\n",
        "        Parameters\n",
        "        ----------\n",
        "        x: np.array\n",
        "            array of input features with size [len_data, input_size]\n",
        "        y: np.array\n",
        "            array of true class labels  with size [len_data]\n",
        "        lr: float\n",
        "            learning rate\n",
        "        train: bool\n",
        "            flag enabling training mode\n",
        "        \"\"\"\n",
        "        len_data = x.shape[0]\n",
        "        indexes = list(range(len_data))\n",
        "        if train:\n",
        "            random.shuffle(indexes)\n",
        "        loss = 0\n",
        "        for i in range(0, len_data, self.batch_size):\n",
        "            # Batch generation\n",
        "            idx = indexes[i : i + self.batch_size]\n",
        "            x_batch = x[idx]\n",
        "            y_batch = y[idx]\n",
        "            # Run model\n",
        "            # Your code here\n",
        "\n",
        "            # Calculate Loss\n",
        "            # Your code here\n",
        "\n",
        "            if train:\n",
        "                # Calculate gradient\n",
        "                # Your code here\n",
        "\n",
        "                # Gradient descent step\n",
        "                # Your code here\n",
        "\n",
        "        return loss*self.batch_size/len_data\n",
        "\n",
        "    def train(self, x_train, y_train, x_test, y_test, lr=2e-7, epochs=30):\n",
        "        \"\"\"\n",
        "        Model training\n",
        "\n",
        "        Parameters\n",
        "        ----------\n",
        "        x_train: np.array\n",
        "            array of train input features with size [len_train, input_size]\n",
        "        y_train: np.array\n",
        "\n",
        "        x_test: np.array\n",
        "            array of test input features with size [len_test, input_size]\n",
        "        y_test: np.array\n",
        "\n",
        "        lr: float\n",
        "            learning rate\n",
        "        epochs: int\n",
        "            number of training epochs\n",
        "        \"\"\"\n",
        "        pp = ProgressPlotter()\n",
        "        for i in range(epochs):\n",
        "            # Epoch of learning\n",
        "            loss_train = self.epoch(x_train, y_train, lr)\n",
        "            loss_test = self.epoch(x_test, y_test, train=False)\n",
        "            y_pred = self.predict(x_test)\n",
        "            acc_test = accuracy_score(y_test, y_pred)\n",
        "            pp.add_scalar(tag=\"Train Loss\", value=loss_train)\n",
        "            pp.add_scalar(tag=\"Test Loss\", value=loss_test)\n",
        "            pp.add_scalar(\n",
        "                tag=\"Test Accurecy\", value=acc_test\n",
        "            )\n",
        "            pp.display_plot()\n",
        "            print(f\"Epoch = {i+1}, Train Loss = {loss_train:.3f}, \"\n",
        "                  f\"Test Loss = {loss_test:.3f}, Test acc = {acc_test}\")\n",
        "\n",
        "    def predict(self, x):\n",
        "        \"\"\"\n",
        "        Model predict\n",
        "\n",
        "        Parameters\n",
        "        ----------\n",
        "        x: np.array\n",
        "            array of input features with size [len_data, input_size]\n",
        "\n",
        "        Returns\n",
        "        -------\n",
        "        y_pred: np.array\n",
        "            array of predicted lable with size [len_data]\n",
        "        \"\"\"\n",
        "        y_pred = []\n",
        "        len_data = x.shape[0]\n",
        "        indexes = list(range(len_data))\n",
        "        for i in range(0, len_data, self.batch_size):\n",
        "            # Batch generation\n",
        "            idx = indexes[i : i + self.batch_size]\n",
        "            x_batch = x[idx]\n",
        "            # Prediction\n",
        "            s = self.linear.forward(x_batch)\n",
        "            y_pred.append(np.argmax(s, axis=1))\n",
        "        return np.concatenate(y_pred, axis=0)"
      ]
    },
    {
      "cell_type": "code",
      "execution_count": null,
      "metadata": {
        "id": "JUQzuCTTpL4U"
      },
      "outputs": [],
      "source": [
        "model = LinearClassifier(x_train.shape[1], len(labels))\n",
        "model.train(x_train, y_train, x_test, y_test)"
      ]
    },
    {
      "cell_type": "markdown",
      "metadata": {
        "id": "N4PKhaLApL4U"
      },
      "source": [
        "## Формат результата"
      ]
    },
    {
      "cell_type": "markdown",
      "metadata": {
        "id": "O1jcBnogpL4U"
      },
      "source": [
        "* Значение accuracy для test части датасета >0.35.\n",
        "* График разделяющей кривой для train части датасета.\n",
        "\n",
        "Пример графика:\n",
        "\n",
        "<img src =\"https://edunet.kea.su/repo/EduNet-web_dependencies/dev-2.0/Exercises/EX02/result_3_task_ex02.png\" width=\"500\">"
      ]
    },
    {
      "cell_type": "markdown",
      "metadata": {
        "id": "TljKgR7LpL4U"
      },
      "source": [
        "# Задание 4. Написание sklearn-совместимой модели"
      ]
    },
    {
      "cell_type": "markdown",
      "metadata": {
        "id": "1duwbs8ppL4U"
      },
      "source": [
        "В этом задании мы наследуемся от написанного нами класса `LinearClassifier` и базовых классов `sklearn`, чтобы сделать `sklearn`-совместимую модель.\n",
        "\n",
        "Подсказка: о списке обязательных параметров и атрибутов для `sklearn` совместимой модели можно почитать [тут](https://scikit-learn.org/stable/developers/develop.html#estimators).\n",
        "\n",
        "Для экономии времени мы будем использовать датасет рукописных цифр MNIST."
      ]
    },
    {
      "cell_type": "markdown",
      "metadata": {
        "id": "7-vEdSpwpL4U"
      },
      "source": [
        "Импорт необходимых библиотек:"
      ]
    },
    {
      "cell_type": "code",
      "execution_count": null,
      "metadata": {
        "id": "zFQfa2_YpL4U"
      },
      "outputs": [],
      "source": [
        "import random\n",
        "import pandas as pd\n",
        "import matplotlib.pyplot as plt\n",
        "from keras.datasets import mnist\n",
        "from sklearn.model_selection import cross_val_score\n",
        "from sklearn.base import BaseEstimator, ClassifierMixin"
      ]
    },
    {
      "cell_type": "markdown",
      "metadata": {
        "id": "bpUomhO5pL4U"
      },
      "source": [
        "Загрузка данных:"
      ]
    },
    {
      "cell_type": "code",
      "execution_count": null,
      "metadata": {
        "id": "C_xBUjeXpL4V"
      },
      "outputs": [],
      "source": [
        "(x_train, y_train), (x_test, y_test) = mnist.load_data()"
      ]
    },
    {
      "cell_type": "markdown",
      "metadata": {
        "id": "saOs9EZTpL4V"
      },
      "source": [
        "Посмотрим на данные:"
      ]
    },
    {
      "cell_type": "code",
      "execution_count": null,
      "metadata": {
        "id": "6xqhd30PpL4V"
      },
      "outputs": [],
      "source": [
        "plt.rcParams[\"figure.figsize\"] = (25, 10)\n",
        "image_to_display = 10\n",
        "j = 1\n",
        "for i in random.sample(range(0, len(x_train)), image_to_display):\n",
        "    plt.subplot(1, image_to_display, j)\n",
        "    plt.imshow(x_train[i])\n",
        "    plt.axis(\"off\")\n",
        "    plt.title(int(y_train[i]))\n",
        "    j += 1"
      ]
    },
    {
      "cell_type": "markdown",
      "metadata": {
        "id": "Gdb5Y8tXpL4V"
      },
      "source": [
        "Вытянем данные в вектор:"
      ]
    },
    {
      "cell_type": "code",
      "execution_count": null,
      "metadata": {
        "id": "oku9OHWEpL4V"
      },
      "outputs": [],
      "source": [
        "# flatten\n",
        "x_train = x_train.reshape(x_train.shape[0], -1)\n",
        "x_test = x_test.reshape(x_test.shape[0], -1)\n",
        "x_train.shape"
      ]
    },
    {
      "cell_type": "markdown",
      "metadata": {
        "id": "0o_x3PslpL4V"
      },
      "source": [
        "Напишем класс модели. Наследуемся у:\n",
        "- [`BaseEstimator`](https://scikit-learn.org/stable/modules/generated/sklearn.base.BaseEstimator.html#sklearn-base-baseestimator) — базовый класс всех estimator в sklearn.\n",
        "- [`ClassifierMixin`](https://scikit-learn.org/stable/modules/generated/sklearn.base.ClassifierMixin.html#sklearn-base-classifiermixin) — определяет метод score как среднюю accuracy.\n",
        "- Наш класс `LinearClassifier`\n",
        "\n",
        "Метод `predict` уже определен в классе LinearClassifier, нам необходимо написать `fit`и объявить нужные параметры."
      ]
    },
    {
      "cell_type": "code",
      "execution_count": null,
      "metadata": {
        "id": "2PvEOki8pL4V"
      },
      "outputs": [],
      "source": [
        "class SKLinearClassifier(BaseEstimator, ClassifierMixin, LinearClassifier):\n",
        "    def __init__(\n",
        "        self,\n",
        "        input_size=784,\n",
        "        classes_num=10,\n",
        "        batch_size=1024,\n",
        "        lr=2e-7,\n",
        "        epochs=30,\n",
        "    ):\n",
        "        LinearClassifier.__init__(self, input_size, classes_num, batch_size)\n",
        "        # Your code here\n",
        "\n",
        "    def fit(self, X, y):\n",
        "        # Your code here\n",
        "\n",
        "        return self"
      ]
    },
    {
      "cell_type": "markdown",
      "metadata": {
        "id": "LoREMZ2epL4V"
      },
      "source": [
        "Проверим работу модели."
      ]
    },
    {
      "cell_type": "code",
      "execution_count": null,
      "metadata": {
        "id": "6MjHzf4IpL4V"
      },
      "outputs": [],
      "source": [
        "model = SKLinearClassifier()"
      ]
    },
    {
      "cell_type": "code",
      "execution_count": null,
      "metadata": {
        "id": "cli1Ng5DpL4V"
      },
      "outputs": [],
      "source": [
        "model.fit(x_train, y_train)"
      ]
    },
    {
      "cell_type": "code",
      "execution_count": null,
      "metadata": {
        "id": "OQkLQlr_pL4V"
      },
      "outputs": [],
      "source": [
        "y_pred = model.predict(x_test)"
      ]
    },
    {
      "cell_type": "code",
      "execution_count": null,
      "metadata": {
        "id": "hPrmMcBgpL4W"
      },
      "outputs": [],
      "source": [
        "df = pd.DataFrame()\n",
        "df[\"y_pred\"] = y_pred\n",
        "df[\"y_true\"] = y_test\n",
        "df.head()"
      ]
    },
    {
      "cell_type": "markdown",
      "metadata": {
        "id": "pi4qu4pKpL4W"
      },
      "source": [
        "Посмотрим на качество на кросс-валидации"
      ]
    },
    {
      "cell_type": "code",
      "execution_count": null,
      "metadata": {
        "id": "lM5wxkNRpL4W"
      },
      "outputs": [],
      "source": [
        "set_seed()\n",
        "scores = cross_val_score(model, x_train, y_train, n_jobs=-1, cv=4)\n",
        "print(f\"Accuracy: {scores.mean():.3f}, std: {scores.std():.3f}\")"
      ]
    },
    {
      "cell_type": "markdown",
      "metadata": {
        "id": "kJMzAC-FpL4W"
      },
      "source": [
        "## Формат результата"
      ]
    },
    {
      "cell_type": "markdown",
      "metadata": {
        "id": "yObzet-1pL4W"
      },
      "source": [
        "* `sklearn`-совместимая модель\n",
        "* Значение accuracy на кросс-валидации >0.85."
      ]
    }
  ],
  "metadata": {
    "colab": {
      "toc_visible": true,
      "provenance": [],
      "include_colab_link": true
    },
    "kernelspec": {
      "display_name": "Python 3",
      "name": "python3"
    },
    "language_info": {
      "name": "python"
    }
  },
  "nbformat": 4,
  "nbformat_minor": 0
}